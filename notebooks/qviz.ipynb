{
 "cells": [
  {
   "cell_type": "markdown",
   "id": "67da07ac",
   "metadata": {},
   "source": [
    "# 🔧 Tool: viz\n",
    "\n",
    "**Dataset:** 카테고리\n",
    "**난이도:** 하\n",
    "\n",
    "**Q.** 성별을 확인한 후, 각 성별에 해당하는 생존자와 사망자의 수를 카운트하세요."
   ]
  },
  {
   "cell_type": "code",
   "execution_count": null,
   "id": "65fffbce",
   "metadata": {},
   "outputs": [],
   "source": [
    "import seaborn as sns\n",
    "import pandas as pd\n",
    "dataset = sns.load_dataset(\"카테고리\")\n",
    "dataset.head(1)"
   ]
  },
  {
   "cell_type": "markdown",
   "id": "a65a4fe6",
   "metadata": {},
   "source": [
    "# 🔧 Tool: viz\n",
    "\n",
    "**Dataset:** 요약 통계\n",
    "**난이도:** 중상\n",
    "\n",
    "**Q.** Survived와 Pclass에 따라 승객의 수를 구하세요."
   ]
  },
  {
   "cell_type": "code",
   "execution_count": null,
   "id": "c9393432",
   "metadata": {},
   "outputs": [],
   "source": [
    "import seaborn as sns\n",
    "import pandas as pd\n",
    "dataset = sns.load_dataset(\"요약 통계\")\n",
    "dataset.head(1)"
   ]
  },
  {
   "cell_type": "markdown",
   "id": "c43c2ed3",
   "metadata": {},
   "source": [
    "# 🔧 Tool: viz\n",
    "\n",
    "**Dataset:** tips\n",
    "**난이도:** 하\n",
    "\n",
    "**Q.** 결측값이 있는 행을 제거하세요."
   ]
  },
  {
   "cell_type": "code",
   "execution_count": null,
   "id": "0baf9565",
   "metadata": {},
   "outputs": [],
   "source": [
    "import seaborn as sns\n",
    "import pandas as pd\n",
    "dataset = sns.load_dataset(\"tips\")\n",
    "dataset.head(1)"
   ]
  },
  {
   "cell_type": "markdown",
   "id": "09d9916b",
   "metadata": {},
   "source": [
    "# 🔧 Tool: viz\n",
    "\n",
    "**Dataset:** tips\n",
    "**난이도:** 중상\n",
    "\n",
    "**Q.** 성별별 생존율을 구하세요."
   ]
  },
  {
   "cell_type": "code",
   "execution_count": null,
   "id": "a0abb492",
   "metadata": {},
   "outputs": [],
   "source": [
    "import seaborn as sns\n",
    "import pandas as pd\n",
    "dataset = sns.load_dataset(\"tips\")\n",
    "dataset.head(1)"
   ]
  },
  {
   "cell_type": "markdown",
   "id": "1c17d617",
   "metadata": {},
   "source": [
    "# 🔧 Tool: viz\n",
    "\n",
    "**Dataset:** tips\n",
    "**난이도:** 하\n",
    "\n",
    "**Q.** 결측값이 있는 행을 제거하세요."
   ]
  },
  {
   "cell_type": "code",
   "execution_count": null,
   "id": "2a93ec59",
   "metadata": {},
   "outputs": [],
   "source": [
    "import seaborn as sns\n",
    "import pandas as pd\n",
    "dataset = sns.load_dataset(\"tips\")\n",
    "dataset.head(1)"
   ]
  },
  {
   "cell_type": "markdown",
   "id": "c1836b15",
   "metadata": {},
   "source": [
    "# 🔧 Tool: viz\n",
    "\n",
    "**Dataset:** tips\n",
    "**난이도:** 상\n",
    "\n",
    "**Q.** 성별별 평균 팁 금액을 구하세요."
   ]
  },
  {
   "cell_type": "code",
   "execution_count": null,
   "id": "ea1c1a36",
   "metadata": {},
   "outputs": [],
   "source": [
    "import seaborn as sns\n",
    "import pandas as pd\n",
    "dataset = sns.load_dataset(\"tips\")\n",
    "dataset.head(1)"
   ]
  }
 ],
 "metadata": {},
 "nbformat": 4,
 "nbformat_minor": 5
}
