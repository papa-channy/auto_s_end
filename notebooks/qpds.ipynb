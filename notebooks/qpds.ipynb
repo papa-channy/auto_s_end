{
 "cells": [
  {
   "cell_type": "markdown",
   "id": "2156a40b",
   "metadata": {},
   "source": [
    "# 🔧 Tool: pds\n",
    "\n",
    "**Dataset:** tips\n",
    "**난이도:** 중\n",
    "\n",
    "**Q.** 결측치가 있는 행을 제거하세요."
   ]
  },
  {
   "cell_type": "code",
   "execution_count": 1,
   "id": "955c70ad",
   "metadata": {},
   "outputs": [
    {
     "ename": "ModuleNotFoundError",
     "evalue": "No module named 'seaborn'",
     "output_type": "error",
     "traceback": [
      "\u001b[31m---------------------------------------------------------------------------\u001b[39m",
      "\u001b[31mModuleNotFoundError\u001b[39m                       Traceback (most recent call last)",
      "\u001b[36mCell\u001b[39m\u001b[36m \u001b[39m\u001b[32mIn[1]\u001b[39m\u001b[32m, line 1\u001b[39m\n\u001b[32m----> \u001b[39m\u001b[32m1\u001b[39m \u001b[38;5;28;01mimport\u001b[39;00m\u001b[38;5;250m \u001b[39m\u001b[34;01mseaborn\u001b[39;00m\u001b[38;5;250m \u001b[39m\u001b[38;5;28;01mas\u001b[39;00m\u001b[38;5;250m \u001b[39m\u001b[34;01msns\u001b[39;00m\n\u001b[32m      2\u001b[39m \u001b[38;5;28;01mimport\u001b[39;00m\u001b[38;5;250m \u001b[39m\u001b[34;01mpandas\u001b[39;00m\u001b[38;5;250m \u001b[39m\u001b[38;5;28;01mas\u001b[39;00m\u001b[38;5;250m \u001b[39m\u001b[34;01mpd\u001b[39;00m\n\u001b[32m      3\u001b[39m dataset = sns.load_dataset(\u001b[33m\"\u001b[39m\u001b[33mtips\u001b[39m\u001b[33m\"\u001b[39m)\n",
      "\u001b[31mModuleNotFoundError\u001b[39m: No module named 'seaborn'"
     ]
    }
   ],
   "source": [
    "import seaborn as sns\n",
    "import pandas as pd\n",
    "dataset = sns.load_dataset(\"tips\")\n",
    "dataset.head(1)"
   ]
  },
  {
   "cell_type": "markdown",
   "id": "25fb45f8",
   "metadata": {},
   "source": [
    "# 🔧 Tool: pds\n",
    "\n",
    "**Dataset:** tips\n",
    "**난이도:** 중\n",
    "\n",
    "**Q.** 결측치가 있는 행을 제거하세요."
   ]
  },
  {
   "cell_type": "code",
   "execution_count": null,
   "id": "1e49f014",
   "metadata": {},
   "outputs": [],
   "source": [
    "import seaborn as sns\n",
    "import pandas as pd\n",
    "dataset = sns.load_dataset(\"tips\")\n",
    "dataset.head(1)"
   ]
  },
  {
   "cell_type": "markdown",
   "id": "001b8431",
   "metadata": {},
   "source": [
    "# 🔧 Tool: pds\n",
    "\n",
    "**Dataset:** titanic\n",
    "**난이도:** 상\n",
    "\n",
    "**Q.** 성별별 생존율을 구하세요."
   ]
  },
  {
   "cell_type": "code",
   "execution_count": null,
   "id": "3d633530",
   "metadata": {},
   "outputs": [],
   "source": [
    "import seaborn as sns\n",
    "import pandas as pd\n",
    "dataset = sns.load_dataset(\"titanic\")\n",
    "dataset.head(1)"
   ]
  },
  {
   "cell_type": "markdown",
   "id": "8f144e96",
   "metadata": {},
   "source": [
    "# 🔧 Tool: pds\n",
    "\n",
    "**Dataset:** titanic\n",
    "**난이도:** 최상\n",
    "\n",
    "**Q.** 연령별 생존율을 bar 그래프로 나타내세요."
   ]
  },
  {
   "cell_type": "code",
   "execution_count": null,
   "id": "425a22ff",
   "metadata": {},
   "outputs": [],
   "source": [
    "import seaborn as sns\n",
    "import pandas as pd\n",
    "dataset = sns.load_dataset(\"titanic\")\n",
    "dataset.head(1)"
   ]
  },
  {
   "cell_type": "markdown",
   "id": "940a19c3",
   "metadata": {},
   "source": [
    "# 🔧 Tool: pds\n",
    "\n",
    "**Dataset:** tips\n",
    "**난이도:** 중\n",
    "\n",
    "**Q.** 결측치가 있는 행을 제거하세요."
   ]
  },
  {
   "cell_type": "code",
   "execution_count": null,
   "id": "3abb0ef5",
   "metadata": {},
   "outputs": [],
   "source": [
    "import seaborn as sns\n",
    "import pandas as pd\n",
    "dataset = sns.load_dataset(\"tips\")\n",
    "dataset.head(1)"
   ]
  },
  {
   "cell_type": "markdown",
   "id": "61b6ba51",
   "metadata": {},
   "source": [
    "# 🔧 Tool: pds\n",
    "\n",
    "**Dataset:** titanic\n",
    "**난이도:** 상\n",
    "\n",
    "**Q.** 성별별 생존율을 구하세요."
   ]
  },
  {
   "cell_type": "code",
   "execution_count": null,
   "id": "189785ea",
   "metadata": {},
   "outputs": [],
   "source": [
    "import seaborn as sns\n",
    "import pandas as pd\n",
    "dataset = sns.load_dataset(\"titanic\")\n",
    "dataset.head(1)"
   ]
  },
  {
   "cell_type": "markdown",
   "id": "dd0816f1",
   "metadata": {},
   "source": [
    "# 🔧 Tool: pds\n",
    "\n",
    "**Dataset:** titanic\n",
    "**난이도:** 최상\n",
    "\n",
    "**Q.** 요일별 생존율을 그래프로 나타내세요."
   ]
  },
  {
   "cell_type": "code",
   "execution_count": null,
   "id": "3a3a9c8d",
   "metadata": {},
   "outputs": [],
   "source": [
    "import seaborn as sns\n",
    "import pandas as pd\n",
    "dataset = sns.load_dataset(\"titanic\")\n",
    "dataset.head(1)"
   ]
  },
  {
   "cell_type": "markdown",
   "id": "adec1f5c",
   "metadata": {},
   "source": [
    "# 🔧 Tool: pds\n",
    "\n",
    "**Dataset:** tips\n",
    "**난이도:** 중\n",
    "\n",
    "**Q.** 결측치가 있는 행을 제거하세요."
   ]
  },
  {
   "cell_type": "code",
   "execution_count": null,
   "id": "cc5ddf77",
   "metadata": {},
   "outputs": [],
   "source": [
    "import seaborn as sns\n",
    "import pandas as pd\n",
    "dataset = sns.load_dataset(\"tips\")\n",
    "dataset.head(1)"
   ]
  },
  {
   "cell_type": "markdown",
   "id": "5b0996f2",
   "metadata": {},
   "source": [
    "# 🔧 Tool: pds\n",
    "\n",
    "**Dataset:** titanic\n",
    "**난이도:** 상\n",
    "\n",
    "**Q.** 성별별 생존율을 구하세요."
   ]
  },
  {
   "cell_type": "code",
   "execution_count": null,
   "id": "37c4a2a1",
   "metadata": {},
   "outputs": [],
   "source": [
    "import seaborn as sns\n",
    "import pandas as pd\n",
    "dataset = sns.load_dataset(\"titanic\")\n",
    "dataset.head(1)"
   ]
  },
  {
   "cell_type": "markdown",
   "id": "8205cf24",
   "metadata": {},
   "source": [
    "# 🔧 Tool: pds\n",
    "\n",
    "**Dataset:** titanic\n",
    "**난이도:** 최상\n",
    "\n",
    "**Q.** 이동 수단별 생존율을 막대 그래프로 나타내세요."
   ]
  },
  {
   "cell_type": "code",
   "execution_count": null,
   "id": "46a8b035",
   "metadata": {},
   "outputs": [],
   "source": [
    "import seaborn as sns\n",
    "import pandas as pd\n",
    "dataset = sns.load_dataset(\"titanic\")\n",
    "dataset.head(1)"
   ]
  }
 ],
 "metadata": {
  "kernelspec": {
   "display_name": "Python 3",
   "language": "python",
   "name": "python3"
  },
  "language_info": {
   "codemirror_mode": {
    "name": "ipython",
    "version": 3
   },
   "file_extension": ".py",
   "mimetype": "text/x-python",
   "name": "python",
   "nbconvert_exporter": "python",
   "pygments_lexer": "ipython3",
   "version": "3.13.2"
  }
 },
 "nbformat": 4,
 "nbformat_minor": 5
}
